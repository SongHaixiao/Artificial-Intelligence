{
 "cells": [
  {
   "cell_type": "markdown",
   "id": "laughing-authorization",
   "metadata": {},
   "source": [
    "# Information\n",
    "\n",
    "- Title : 1.Introduction to Python 수행한 결과를 겝쳐한 파일\n",
    "- ID : 12164484\n",
    "- Name : 송해소\n",
    "- Time : 2021.03.11"
   ]
  },
  {
   "cell_type": "markdown",
   "id": "buried-advocacy",
   "metadata": {},
   "source": [
    "# Module 1 : Introduction to Python"
   ]
  },
  {
   "cell_type": "markdown",
   "id": "herbal-polyester",
   "metadata": {},
   "source": [
    "## 1.1 Elementary Data Types\n",
    "### (1) Data Type\n",
    "- Number : \n",
    "    - Integer : x = 4\n",
    "    - Long integer : x = 15L\n",
    "    - Floating point : x = 3.142\n",
    "    - Boolean : x = True\n",
    "- Text :\n",
    "    - Character : x = 'c'\n",
    "    - String : x = \"this\""
   ]
  },
  {
   "cell_type": "code",
   "execution_count": 7,
   "id": "substantial-behalf",
   "metadata": {},
   "outputs": [
    {
     "name": "stdout",
     "output_type": "stream",
     "text": [
      "4 <class 'int'>\n",
      "True <class 'bool'>\n",
      "3.7 <class 'float'>\n",
      "This is a string <class 'str'>\n"
     ]
    }
   ],
   "source": [
    "# Data Type Example\n",
    "\n",
    "x = 4 # integer\n",
    "print(x,type(x))\n",
    "\n",
    "y = True # boolean(True, False)\n",
    "print(y, type(y))\n",
    "\n",
    "z = 3.7  # floating point\n",
    "print(z,type(z))\n",
    "\n",
    "s = \"This is a string\" # string\n",
    "print(s,type(s))"
   ]
  },
  {
   "cell_type": "markdown",
   "id": "located-analyst",
   "metadata": {},
   "source": [
    "### (2) Arithmetic Operations"
   ]
  },
  {
   "cell_type": "code",
   "execution_count": 8,
   "id": "pressing-ratio",
   "metadata": {},
   "outputs": [
    {
     "name": "stdout",
     "output_type": "stream",
     "text": [
      "18 8 12 6 18 2\n",
      "3.7 1.7000000000000002 1.2333333333333334 1.0 13.690000000000001\n",
      "3.7 13.690000000000001 4 3\n"
     ]
    }
   ],
   "source": [
    "# The arithmetic operations available \n",
    "# for manipulating integers and floating point numbers\n",
    "\n",
    "x = 4 # integer\n",
    "x1 = x + 4 # addition \n",
    "x2 = x * 3 # multiplication\n",
    "x += 2 # equivalent to x = x + 2\n",
    "x3 = x \n",
    "x *= 3 # equivalent to x = x * 3\n",
    "x4 = x \n",
    "x5 = x % 4 # modulo (remainder) operator\n",
    "\n",
    "z = 3.7 # floating point number\n",
    "z1 = z - 2 # subtraction\n",
    "z2 = z / 3 # division\n",
    "z3 = z // 3 # integer division\n",
    "z4 = z ** 2 # square of z \n",
    "z5 = z4 ** 0.5 # square root\n",
    "z6 = pow(z,2) # equivalent to square of z\n",
    "z7 = round(z) # rounding z to its nearest integer \n",
    "z8 = int(z) # type casting float to int\n",
    "\n",
    "print(x,x1,x2,x3,x4,x5)\n",
    "print(z,z1,z2,z3,z4)\n",
    "print(z5,z6,z7,z8)"
   ]
  },
  {
   "cell_type": "markdown",
   "id": "beginning-relief",
   "metadata": {},
   "source": [
    "### (3) Math Module\n",
    "The following are some of the functions provided by the math module for integers and floating point numbers\n",
    "\n",
    "#### Functions\n",
    "- sqrt() : squre function\n",
    "- pow() : power function , first parameter : base number, second parameter : n power\n",
    "- exp()：the power of e = 2.71828\n",
    "- log() : Returns the natural logarithm of first parameter. Second parameter is base,  default base is e. \n",
    "- fabs() : absolute value.\n",
    "- factorial() : calculate the factorial.\n",
    "- ceil() : ceiling function\n",
    "- floor() : floor function\n",
    "- trunc() : truncate function\n",
    "- sin() : sin function\n",
    "- tanh(): arctan function\n",
    "- isnan(): check if nan type\n",
    "- isinf():check if infinity type\n",
    "\n",
    "### Attribute\n",
    "- pi : pi = 3.141592653...\n",
    "- nan : not a number\n",
    "- inf : infinity\n"
   ]
  },
  {
   "cell_type": "code",
   "execution_count": 10,
   "id": "convenient-burlington",
   "metadata": {},
   "outputs": [
    {
     "name": "stdout",
     "output_type": "stream",
     "text": [
      "2.0\n",
      "16.0\n",
      "54.598150033144236\n",
      "2.0\n",
      "4.0\n",
      "24\n",
      "1\n",
      "0\n",
      "0\n",
      "3.6739403974420594e-16\n",
      "0.9999999869751758\n",
      "True\n",
      "True\n"
     ]
    }
   ],
   "source": [
    "import math \n",
    "\n",
    "x = 4\n",
    "print(math.sqrt(x)) # sqrt(4) = 2\n",
    "print(math.pow(x,2)) # 4**2 = 16\n",
    "print(math.exp(x)) # exp(4) = 54.6\n",
    "print(math.log(x,2)) # log based 2 (default is natural logarithm)\n",
    "print(math.fabs(-4)) # absolute value\n",
    "print(math.factorial(x)) # 4! = 4 x 3 x 2 x 1 = 24\n",
    "\n",
    "z = 0.2\n",
    "print(math.ceil(z)) # ceiling function\n",
    "print(math.floor(z)) # floor function\n",
    "print(math.trunc(z)) # truncate function\n",
    "\n",
    "z = 3*math.pi # math.pi = 3.141592653589793 \n",
    "print(math.sin(z)) # sine function\n",
    "print(math.tanh(z)) # arctan function\n",
    "\n",
    "x = math.nan # not a number\n",
    "print(math.isnan(x))\n",
    "\n",
    "x = math.inf # infinity\n",
    "print(math.isinf(x))"
   ]
  },
  {
   "cell_type": "markdown",
   "id": "loaded-costume",
   "metadata": {},
   "source": [
    "### (4) Logical Operations\n",
    "\n",
    "- and : Logical AND\n",
    "- or : Logical OR\n",
    "- and not : Logical NOT"
   ]
  },
  {
   "cell_type": "code",
   "execution_count": 14,
   "id": "cleared-northern",
   "metadata": {},
   "outputs": [
    {
     "name": "stdout",
     "output_type": "stream",
     "text": [
      "False\n",
      "True\n",
      "True\n"
     ]
    }
   ],
   "source": [
    "y1 = True\n",
    "y2 = False\n",
    "\n",
    "print(y1 and y2) # logical AND\n",
    "print(y1 or y2) # logical OR\n",
    "print(y1 and not y2) # logical NOT"
   ]
  },
  {
   "cell_type": "markdown",
   "id": "romantic-breed",
   "metadata": {},
   "source": [
    "### (5) Manipulating Strings\n",
    "#### Function\n",
    "- len() : return the size of string\n",
    "- uppder():convert to upper case\n",
    "- lower():convert to lower case\n",
    "- split():split the string, based on parameter\n",
    "- replace():replace the 1st. parameter with 2nd. parameter\n",
    "- find():find the position of parameter in string\n",
    "\n",
    "### Operation\n",
    "- [:] : slice\n",
    "- + ： casting two string\n",
    "- in : check if the 1st. string is a substring of 2nd. one\n",
    "- == : equality comparison\n",
    "- < : inequality comparison\n",
    "- + : string concatenation\n",
    "- * : replicate the string n times"
   ]
  },
  {
   "cell_type": "code",
   "execution_count": 15,
   "id": "devoted-advice",
   "metadata": {},
   "outputs": [
    {
     "name": "stdout",
     "output_type": "stream",
     "text": [
      "his\n",
      "4\n",
      "Length of string is 4\n",
      "THIS\n",
      "this\n",
      "This\n",
      "This is another string\n",
      "That at a string\n",
      "8\n",
      "True\n",
      "True\n",
      "False\n",
      "This is a string too\n",
      "This This This \n"
     ]
    }
   ],
   "source": [
    "s1 = \"This\"\n",
    "\n",
    "print(s1[1:]) # print last three characters \n",
    "print(len(s1)) # get the string length\n",
    "print(\"Length of string is \" + str(len(s1))) # type casting int to str\n",
    "print(s1.upper()) # convert to upper case\n",
    "print(s1.lower()) # convert to lower case\n",
    "\n",
    "s2 = \"This is a string\"\n",
    "\n",
    "words = s2.split(' ') # split the string into words\n",
    "print(words[0])\n",
    "print(s2.replace('a','another')) # replace \"a\" with \"another\"\n",
    "print(s2.replace('is','at')) # replace \"is\" with \"at\"\n",
    "print(s2.find(\"a\")) # find the position of \"a\" in s2\n",
    "print(s1 in s2) # check if s1 is a substring of s2\n",
    "\n",
    "print(s1 == 'This') # equality comparison\n",
    "print(s1 < 'That') # inequality comparison\n",
    "print(s2 + \" too\") # string concatenation\n",
    "print((s1 + \" \")* 3) # replicate the string 3 times"
   ]
  },
  {
   "cell_type": "markdown",
   "id": "accredited-creator",
   "metadata": {},
   "source": [
    "## 1.2 Compound Data Types\n",
    "The following examples show how to create and manipulate a list object.\n",
    "\n",
    "## (1) List\n",
    "\n",
    "### Function\n",
    "- range(startvalue,endvalue,stepsize)：get the numbers from startvalue to endvalue based on stepsize length.\n",
    "- append():insert parameter to end of the list\n",
    "- pop():remove last element of the list\n",
    "- len() : get the size\n",
    "- sum() : sums up elements of the list\n",
    "- insert() : insert 2nd. parameter at index 1st.\n",
    "- sort():sort elements in list; parameter : reverse = True - in descending order; False(default) - in upscending order.\n",
    "- remove(): remove the parameter in the list.\n",
    "\n",
    "### Operation\n",
    "- \\+ :concatenate two list\n",
    "- \\* : replicate the list with n times"
   ]
  },
  {
   "cell_type": "code",
   "execution_count": 16,
   "id": "knowing-authorization",
   "metadata": {},
   "outputs": [
    {
     "name": "stdout",
     "output_type": "stream",
     "text": [
      "<class 'list'>\n",
      "[1, 3, 5, 7, 9]\n",
      "[0, 2, 4, 6, 8]\n",
      "5\n",
      "[1, 3]\n",
      "[5, 7, 9]\n",
      "5\n",
      "25\n",
      "[1, 3, 5, 7, 9, 11]\n",
      "11\n",
      "[1, 3, 5, 7, 9]\n",
      "[1, 3, 5, 7, 9, 11, 13, 15]\n",
      "[1, 3, 5, 7, 9, 1, 3, 5, 7, 9, 1, 3, 5, 7, 9]\n",
      "[1, 3, 4, 5, 7, 9]\n",
      "[9, 7, 5, 4, 3, 1]\n"
     ]
    }
   ],
   "source": [
    "intlist = [1, 3, 5, 7, 9]\n",
    "print(type(intlist))\n",
    "print(intlist)\n",
    "intlist2 = list(range(0,10,2)) # range[startvalue, endvalue, stepsize]\n",
    "print(intlist2)\n",
    "\n",
    "print(intlist[2]) # get the third element of the list\n",
    "print(intlist[:2]) # get the first two elements\n",
    "print(intlist[2:]) # get the last three elements of the list\n",
    "print(len(intlist)) # get the number of elements in the list\n",
    "print(sum(intlist)) # sums up elements of the list\n",
    "\n",
    "intlist.append(11) # insert 11 to end of the list\n",
    "print(intlist)\n",
    "print(intlist.pop()) # remove last element of the list\n",
    "print(intlist)\n",
    "print(intlist + [11,13,15]) # concatenate two lists\n",
    "print(intlist * 3) # replicate the list\n",
    "intlist.insert(2,4) # insert item 4 at index 2 \n",
    "print(intlist)\n",
    "intlist.sort(reverse=True) # sort elements in descending order\n",
    "print(intlist)"
   ]
  },
  {
   "cell_type": "markdown",
   "id": "exposed-begin",
   "metadata": {},
   "source": [
    "### (2) String\n",
    "### Function\n",
    "- join():merge all elements of the list(string type) into a string"
   ]
  },
  {
   "cell_type": "code",
   "execution_count": 17,
   "id": "alpha-norwegian",
   "metadata": {},
   "outputs": [
    {
     "name": "stdout",
     "output_type": "stream",
     "text": [
      "['this', 'is', 'a', 'list']\n",
      "<class 'list'>\n",
      "True\n",
      "a\n",
      "['this', 'is']\n",
      "['a', 'list']\n",
      "this is a list too\n",
      "['this', 'a', 'list', 'too']\n"
     ]
    }
   ],
   "source": [
    "mylist = ['this', 'is', 'a', 'list']\n",
    "print(mylist)\n",
    "print(type(mylist))\n",
    "\n",
    "print(\"list\" in mylist) # check whether \"list\" is in mylist\n",
    "print(mylist[2]) # show the 3rd element of the list\n",
    "print(mylist[:2]) # show the first two elements of the list\n",
    "print(mylist[2:]) # show the last two elements of the list\n",
    "mylist.append(\"too\") # insert element to end of the list\n",
    "\n",
    "separator = \" \"\n",
    "print(separator.join(mylist)) # merge all elements of the list into a string\n",
    "\n",
    "mylist.remove(\"is\") # remove element from list\n",
    "print(mylist)"
   ]
  },
  {
   "cell_type": "markdown",
   "id": "excessive-hurricane",
   "metadata": {},
   "source": [
    "### (3) Dictionary\n",
    "### Function\n",
    "- keys():get the keys of the dictionary\n",
    "- values():get the values of the dictionary\n",
    "- len():get number of key-value pairs\n",
    "- get():get the value of the parameter\n",
    "- zip():contract two list inot a dictionary, 1st. list is key, 2nd. list is values\n",
    "- sorted(): \n",
    "    - need import itemgetter module in operator package;\n",
    "    - 1st. parameter:list.items();\n",
    "    - 2nd. parameter: key = itemgetter(0) : sort by key of dictionary; itemgetter(1) : sort by value of dictionary\n",
    "    \n",
    "### Operation\n",
    "- in : check key if in dictionary"
   ]
  },
  {
   "cell_type": "code",
   "execution_count": 18,
   "id": "least-headquarters",
   "metadata": {},
   "outputs": [
    {
     "name": "stdout",
     "output_type": "stream",
     "text": [
      "{'MI': 'Michigan', 'MN': 'Minnesota', 'TX': 'Texas', 'CA': 'California'}\n",
      "dict_keys(['MI', 'MN', 'TX', 'CA'])\n",
      "dict_values(['Michigan', 'Minnesota', 'Texas', 'California'])\n",
      "4\n",
      "Michigan\n",
      "False\n",
      "True\n",
      "{'apples': 3, 'oranges': 4, 'bananas': 2, 'cherries': 10}\n",
      "['apples', 'bananas', 'cherries', 'oranges']\n",
      "[('apples', 3), ('bananas', 2), ('cherries', 10), ('oranges', 4)]\n",
      "[('bananas', 2), ('apples', 3), ('oranges', 4), ('cherries', 10)]\n"
     ]
    }
   ],
   "source": [
    "abbrev = {}\n",
    "abbrev['MI'] = \"Michigan\"\n",
    "abbrev['MN'] = \"Minnesota\"\n",
    "abbrev['TX'] = \"Texas\"\n",
    "abbrev['CA'] = \"California\"\n",
    "\n",
    "print(abbrev)\n",
    "print(abbrev.keys()) # get the keys of the dictionary\n",
    "print(abbrev.values()) # get the values of the dictionary\n",
    "print(len(abbrev)) # get number of key-value pairs\n",
    "\n",
    "print(abbrev.get('MI'))\n",
    "print(\"FL\" in abbrev)\n",
    "print(\"CA\" in abbrev)\n",
    "\n",
    "keys = ['apples', 'oranges', 'bananas', 'cherries']\n",
    "values = [3, 4, 2, 10]\n",
    "fruits = dict(zip(keys, values))\n",
    "print(fruits)\n",
    "print(sorted(fruits)) # sort keys of dictionary\n",
    "\n",
    "from operator import itemgetter\n",
    "print(sorted(fruits.items(), key=itemgetter(0))) # sort by key of dictionary\n",
    "print(sorted(fruits.items(), key=itemgetter(1))) # sort by value of dictionary"
   ]
  },
  {
   "cell_type": "code",
   "execution_count": 28,
   "id": "sharing-palace",
   "metadata": {},
   "outputs": [
    {
     "name": "stdout",
     "output_type": "stream",
     "text": [
      "('MI', 'Michigan', 'Lansing')\n",
      "('Michigan', 'Lansing')\n",
      "[('MI', 'Michigan', 'Lansing'), ('CA', 'California', 'Sacramento'), ('TX', 'Texas', 'Austin')]\n",
      "('TX', 'Texas', 'Austin')\n",
      "('TX', 'Texas', 'Austin')\n",
      "('Texas', 'Austin')\n",
      "[('TX', 'Texas', 'Austin'), ('MI', 'Michigan', 'Lansing'), ('CA', 'California', 'Sacramento')]\n"
     ]
    }
   ],
   "source": [
    "MItuple = ('MI', 'Michigan', 'Lansing')\n",
    "CAtuple = ('CA', 'California', 'Sacramento')\n",
    "TXtuple = ('TX', 'Texas', 'Austin')\n",
    "\n",
    "print(MItuple)\n",
    "print(MItuple[1:])\n",
    "\n",
    "states = [MItuple, CAtuple, TXtuple] # this will create a list of tuples\n",
    "print(states)\n",
    "print(states[2])\n",
    "print(states[2][:])\n",
    "print(states[2][1:])\n",
    "\n",
    "states.sort(key=lambda state: state[2]) # sort the states by their capital cities\n",
    "print(states)"
   ]
  },
  {
   "cell_type": "markdown",
   "id": "concerned-probability",
   "metadata": {},
   "source": [
    "## 1.3 Control Flow Statements\n",
    "- if\n",
    "- for\n",
    "- while"
   ]
  },
  {
   "cell_type": "markdown",
   "id": "static-usage",
   "metadata": {},
   "source": [
    "### (1) if"
   ]
  },
  {
   "cell_type": "code",
   "execution_count": 21,
   "id": "elegant-theater",
   "metadata": {},
   "outputs": [
    {
     "name": "stdout",
     "output_type": "stream",
     "text": [
      "x = 10 is even\n",
      "x = 10 is positive\n"
     ]
    }
   ],
   "source": [
    "# using if-else statement\n",
    "\n",
    "x = 10\n",
    "\n",
    "if x % 2 == 0:\n",
    "    print(\"x =\", x, \"is even\") \n",
    "else:\n",
    "    print(\"x =\", x, \"is odd\") \n",
    "\n",
    "if x > 0:\n",
    "    print(\"x =\", x, \"is positive\") \n",
    "elif x < 0:\n",
    "    print(\"x =\", x, \"is negative\") \n",
    "else:\n",
    "    print(\"x =\", x, \"is neither positive nor negative\")"
   ]
  },
  {
   "cell_type": "markdown",
   "id": "retained-involvement",
   "metadata": {},
   "source": [
    "### (2) loop"
   ]
  },
  {
   "cell_type": "code",
   "execution_count": 24,
   "id": "happy-relief",
   "metadata": {},
   "outputs": [
    {
     "name": "stdout",
     "output_type": "stream",
     "text": [
      "that\n",
      "at\n",
      "a\n",
      "latt\n",
      "[4, 2, 1, 4]\n",
      "['Austin', 'Lansing', 'Sacramento']\n",
      "['apples', 'oranges', 'bananas', 'cherries']\n"
     ]
    }
   ],
   "source": [
    "# using for loop with a list\n",
    "\n",
    "mylist = ['this', 'is', 'a', 'list'] \n",
    "for word in mylist:\n",
    "    print(word.replace(\"is\", \"at\"))\n",
    "\n",
    "mylist2 = [len(word) for word in mylist] # number of characters in each word\n",
    "print(mylist2)\n",
    "\n",
    "# using for loop with list of tuples\n",
    "\n",
    "states = [('MI', 'Michigan', 'Lansing'),('CA', 'California', 'Sacramento'),\n",
    " ('TX', 'Texas', 'Austin')]\n",
    "sorted_capitals = [state[2] for state in states]\n",
    "sorted_capitals.sort()\n",
    "print(sorted_capitals)\n",
    "\n",
    "# using for loop with dictionary\n",
    "\n",
    "fruits = {'apples': 3, 'oranges': 4, 'bananas': 2, 'cherries': 10}\n",
    "fruitnames = [k for (k,v) in fruits.items()]\n",
    "print(fruitnames)"
   ]
  },
  {
   "cell_type": "markdown",
   "id": "special-cross",
   "metadata": {},
   "source": [
    "### (3) while"
   ]
  },
  {
   "cell_type": "code",
   "execution_count": 27,
   "id": "endangered-construction",
   "metadata": {},
   "outputs": [
    {
     "name": "stdout",
     "output_type": "stream",
     "text": [
      "[-10, -9, -8, -7, -6, -5, -4, -3, -2, -1, 0, 1, 2, 3, 4, 5, 6, 7, 8, 9]\n",
      "First non-negative number: 0\n"
     ]
    }
   ],
   "source": [
    "# using while loop\n",
    "mylist = list(range(-10,10))\n",
    "print(mylist)\n",
    "\n",
    "i = 0 \n",
    "while (mylist[i] < 0):\n",
    "    i = i + 1\n",
    "\n",
    "print(\"First non-negative number:\", mylist[i])"
   ]
  },
  {
   "cell_type": "markdown",
   "id": "fantastic-reason",
   "metadata": {},
   "source": [
    "## 1.4 User-Defined Functions\n",
    "- Named ：like other language,define the user function\n",
    "- Unnamed : lambda keyword"
   ]
  },
  {
   "cell_type": "markdown",
   "id": "individual-wagon",
   "metadata": {},
   "source": [
    "### Lambda Keyword"
   ]
  },
  {
   "cell_type": "code",
   "execution_count": 30,
   "id": "cardiac-valentine",
   "metadata": {},
   "outputs": [
    {
     "name": "stdout",
     "output_type": "stream",
     "text": [
      "11\n"
     ]
    }
   ],
   "source": [
    "myfunc = lambda x: 3*x**2 - 2*x + 3 # example of an unnamed quadratic function\n",
    "print(myfunc(2))"
   ]
  },
  {
   "cell_type": "code",
   "execution_count": 34,
   "id": "tested-lemon",
   "metadata": {},
   "outputs": [
    {
     "name": "stdout",
     "output_type": "stream",
     "text": [
      "[-11, 12, 23, 45, 71]\n"
     ]
    }
   ],
   "source": [
    "import math\n",
    "\n",
    "# The following function will discard missing values from a list\n",
    "def discard(inlist, sortFlag=False): # default value for sortFlag is False \n",
    "    outlist = []\n",
    "    for item in inlist:\n",
    "        if not math.isnan(item):\n",
    "            outlist.append(item)\n",
    "    if sortFlag:\n",
    "        outlist.sort()\n",
    "    \n",
    "    return outlist\n",
    "\n",
    "mylist = [12, math.nan, 23, -11, 45, math.nan, 71]\n",
    "\n",
    "print(discard(mylist,True))"
   ]
  },
  {
   "cell_type": "markdown",
   "id": "damaged-fifth",
   "metadata": {},
   "source": [
    "## 1.5 File I/O\n",
    " write data from a list or other objects to a file."
   ]
  },
  {
   "cell_type": "code",
   "execution_count": 36,
   "id": "exciting-sierra",
   "metadata": {},
   "outputs": [
    {
     "name": "stdout",
     "output_type": "stream",
     "text": [
      "State= Michigan ( MI ) Capital: Lansing\n",
      "\n",
      "State= California ( CA ) Capital: Sacramento\n",
      "\n",
      "State= Texas ( TX ) Capital: Austin\n",
      "\n",
      "State= Minnesota ( MN ) Capital: St Paul\n"
     ]
    }
   ],
   "source": [
    "states = [('MI', 'Michigan', 'Lansing'),('CA', 'California', 'Sacramento'),\n",
    " ('TX', 'Texas', 'Austin'), ('MN', 'Minnesota', 'St Paul')]\n",
    "\n",
    "with open('states.txt', 'w') as f:\n",
    "    f.write('\\n'.join('%s,%s,%s' % state for state in states))\n",
    "    \n",
    "with open('states.txt', 'r') as f:\n",
    "    for line in f:\n",
    "        fields = line.split(sep=',') # split each line into its respective fields\n",
    "        print('State=',fields[1],'(',fields[0],')','Capital:', fields[2])"
   ]
  }
 ],
 "metadata": {
  "kernelspec": {
   "display_name": "Python 3",
   "language": "python",
   "name": "python3"
  },
  "language_info": {
   "codemirror_mode": {
    "name": "ipython",
    "version": 3
   },
   "file_extension": ".py",
   "mimetype": "text/x-python",
   "name": "python",
   "nbconvert_exporter": "python",
   "pygments_lexer": "ipython3",
   "version": "3.7.10"
  }
 },
 "nbformat": 4,
 "nbformat_minor": 5
}
