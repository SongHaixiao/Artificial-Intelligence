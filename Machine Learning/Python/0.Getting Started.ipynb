{
 "cells": [
  {
   "cell_type": "markdown",
   "id": "grateful-miracle",
   "metadata": {},
   "source": [
    "# Information\n",
    "\n",
    "- Title : 0.Getting Started 수행한 결과를 겝쳐한 파일\n",
    "- ID : 12164484\n",
    "- Name : 송해소\n",
    "- Time : 2021.03.11"
   ]
  },
  {
   "cell_type": "markdown",
   "id": "level-shift",
   "metadata": {},
   "source": [
    "# Part I : Ipython"
   ]
  },
  {
   "cell_type": "markdown",
   "id": "social-pixel",
   "metadata": {},
   "source": [
    "![](01.jpg)"
   ]
  },
  {
   "cell_type": "markdown",
   "id": "scientific-preservation",
   "metadata": {},
   "source": [
    "![](02.jpg)"
   ]
  },
  {
   "cell_type": "markdown",
   "id": "standing-context",
   "metadata": {},
   "source": [
    "![](03.jpg)"
   ]
  },
  {
   "cell_type": "markdown",
   "id": "automotive-credits",
   "metadata": {},
   "source": [
    "![](04.jpg)"
   ]
  },
  {
   "cell_type": "markdown",
   "id": "affiliated-divide",
   "metadata": {},
   "source": [
    "# Part II : Jupyter\n",
    "## Shift + Enter \n",
    "\n",
    "- simultaneously to execute the statements in the cell"
   ]
  },
  {
   "cell_type": "code",
   "execution_count": 1,
   "id": "adjusted-comparative",
   "metadata": {},
   "outputs": [
    {
     "name": "stdout",
     "output_type": "stream",
     "text": [
      "5\n"
     ]
    }
   ],
   "source": [
    "\n",
    "x=1+4\n",
    "print(x)"
   ]
  }
 ],
 "metadata": {
  "kernelspec": {
   "display_name": "Python 3",
   "language": "python",
   "name": "python3"
  },
  "language_info": {
   "codemirror_mode": {
    "name": "ipython",
    "version": 3
   },
   "file_extension": ".py",
   "mimetype": "text/x-python",
   "name": "python",
   "nbconvert_exporter": "python",
   "pygments_lexer": "ipython3",
   "version": "3.7.10"
  }
 },
 "nbformat": 4,
 "nbformat_minor": 5
}
